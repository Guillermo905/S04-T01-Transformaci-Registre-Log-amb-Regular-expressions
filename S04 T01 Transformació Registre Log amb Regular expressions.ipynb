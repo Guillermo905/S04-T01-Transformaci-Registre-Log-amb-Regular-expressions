{
 "cells": [
  {
   "cell_type": "markdown",
   "id": "cd044614",
   "metadata": {},
   "source": [
    "L'anàlisi de registres és una funció important per al control i l'alerta, el compliment de les polítiques de seguretat, l'auditoria i el compliment normatiu, la resposta a incidents de seguretat i fins i tot les investigacions forenses. En analitzar les dades de registre, les empreses poden identificar més fàcilment les possibles amenaces i altres problemes, trobar la causa arrel i iniciar una resposta ràpida per mitigar els riscos.\n",
    "\n",
    "# Nivell 1\n",
    "\n",
    "L'analista ha d'assegurar-se que els registres consisteixen en una gamma completa de missatges i s'interpreten segons el context. Els elements de registre han d'estandaritzar-se, utilitzant els mateixos termes o terminologia, per evitar confusions i proporcionar cohesió.\n",
    "\n",
    "Com Científic de Dades se t'ha proporcionat accés als registres-Logs on queda registrada l'activitat de totes les visites a realitzades a la pàgina web de l'agència de viatges \"akumenius.com\".\n",
    "\n",
    "## Exercici 1\n",
    "\n",
    "Estandaritza, identifica i enumera cada un dels atributs / variables de l'estructura de l'arxiu \"Web_access_log-akumenius.com\" que trobaràs al repositori de GitHub \"Data-sources\". "
   ]
  },
  {
   "cell_type": "code",
   "execution_count": 1,
   "id": "d41d3446",
   "metadata": {},
   "outputs": [],
   "source": [
    "import pandas as pd\n",
    "import matplotlib.pyplot as plt\n",
    "import seaborn as sns"
   ]
  },
  {
   "cell_type": "code",
   "execution_count": 2,
   "id": "f892bd9c",
   "metadata": {
    "scrolled": true
   },
   "outputs": [
    {
     "name": "stderr",
     "output_type": "stream",
     "text": [
      "C:\\Users\\Guillermo\\anaconda3\\lib\\site-packages\\IPython\\core\\interactiveshell.py:3444: FutureWarning: The error_bad_lines argument has been deprecated and will be removed in a future version.\n",
      "\n",
      "\n",
      "  exec(code_obj, self.user_global_ns, self.user_ns)\n",
      "b'Skipping line 181474: expected 12 fields, saw 13\\n'\n",
      "b'Skipping line 236497: expected 12 fields, saw 13\\n'\n"
     ]
    }
   ],
   "source": [
    "df = pd.read_csv('C:/Users/Guillermo/Desktop/Curs Data Scientist/Sprint 4/Web_access_log-akumenius.txt', sep=' ',\n",
    "                error_bad_lines=False, header = None)"
   ]
  },
  {
   "cell_type": "code",
   "execution_count": 24,
   "id": "58a86e37",
   "metadata": {
    "scrolled": true
   },
   "outputs": [
    {
     "data": {
      "text/html": [
       "<div>\n",
       "<style scoped>\n",
       "    .dataframe tbody tr th:only-of-type {\n",
       "        vertical-align: middle;\n",
       "    }\n",
       "\n",
       "    .dataframe tbody tr th {\n",
       "        vertical-align: top;\n",
       "    }\n",
       "\n",
       "    .dataframe thead th {\n",
       "        text-align: right;\n",
       "    }\n",
       "</style>\n",
       "<table border=\"1\" class=\"dataframe\">\n",
       "  <thead>\n",
       "    <tr style=\"text-align: right;\">\n",
       "      <th></th>\n",
       "      <th>0</th>\n",
       "      <th>1</th>\n",
       "      <th>2</th>\n",
       "      <th>3</th>\n",
       "      <th>4</th>\n",
       "      <th>5</th>\n",
       "      <th>6</th>\n",
       "      <th>7</th>\n",
       "      <th>8</th>\n",
       "      <th>9</th>\n",
       "      <th>10</th>\n",
       "      <th>11</th>\n",
       "    </tr>\n",
       "  </thead>\n",
       "  <tbody>\n",
       "    <tr>\n",
       "      <th>0</th>\n",
       "      <td>localhost</td>\n",
       "      <td>127.0.0.1</td>\n",
       "      <td>-</td>\n",
       "      <td>-</td>\n",
       "      <td>[23/Feb/2014:03:10:31</td>\n",
       "      <td>+0100]</td>\n",
       "      <td>OPTIONS * HTTP/1.0</td>\n",
       "      <td>200</td>\n",
       "      <td>-</td>\n",
       "      <td>-</td>\n",
       "      <td>Apache (internal dummy connection)</td>\n",
       "      <td>VLOG=-</td>\n",
       "    </tr>\n",
       "    <tr>\n",
       "      <th>1</th>\n",
       "      <td>localhost</td>\n",
       "      <td>127.0.0.1</td>\n",
       "      <td>-</td>\n",
       "      <td>-</td>\n",
       "      <td>[23/Feb/2014:03:10:31</td>\n",
       "      <td>+0100]</td>\n",
       "      <td>OPTIONS * HTTP/1.0</td>\n",
       "      <td>200</td>\n",
       "      <td>-</td>\n",
       "      <td>-</td>\n",
       "      <td>Apache (internal dummy connection)</td>\n",
       "      <td>VLOG=-</td>\n",
       "    </tr>\n",
       "    <tr>\n",
       "      <th>2</th>\n",
       "      <td>localhost</td>\n",
       "      <td>127.0.0.1</td>\n",
       "      <td>-</td>\n",
       "      <td>-</td>\n",
       "      <td>[23/Feb/2014:03:10:31</td>\n",
       "      <td>+0100]</td>\n",
       "      <td>OPTIONS * HTTP/1.0</td>\n",
       "      <td>200</td>\n",
       "      <td>-</td>\n",
       "      <td>-</td>\n",
       "      <td>Apache (internal dummy connection)</td>\n",
       "      <td>VLOG=-</td>\n",
       "    </tr>\n",
       "    <tr>\n",
       "      <th>3</th>\n",
       "      <td>localhost</td>\n",
       "      <td>127.0.0.1</td>\n",
       "      <td>-</td>\n",
       "      <td>-</td>\n",
       "      <td>[23/Feb/2014:03:10:31</td>\n",
       "      <td>+0100]</td>\n",
       "      <td>OPTIONS * HTTP/1.0</td>\n",
       "      <td>200</td>\n",
       "      <td>-</td>\n",
       "      <td>-</td>\n",
       "      <td>Apache (internal dummy connection)</td>\n",
       "      <td>VLOG=-</td>\n",
       "    </tr>\n",
       "    <tr>\n",
       "      <th>4</th>\n",
       "      <td>localhost</td>\n",
       "      <td>127.0.0.1</td>\n",
       "      <td>-</td>\n",
       "      <td>-</td>\n",
       "      <td>[23/Feb/2014:03:10:31</td>\n",
       "      <td>+0100]</td>\n",
       "      <td>OPTIONS * HTTP/1.0</td>\n",
       "      <td>200</td>\n",
       "      <td>-</td>\n",
       "      <td>-</td>\n",
       "      <td>Apache (internal dummy connection)</td>\n",
       "      <td>VLOG=-</td>\n",
       "    </tr>\n",
       "    <tr>\n",
       "      <th>...</th>\n",
       "      <td>...</td>\n",
       "      <td>...</td>\n",
       "      <td>...</td>\n",
       "      <td>...</td>\n",
       "      <td>...</td>\n",
       "      <td>...</td>\n",
       "      <td>...</td>\n",
       "      <td>...</td>\n",
       "      <td>...</td>\n",
       "      <td>...</td>\n",
       "      <td>...</td>\n",
       "      <td>...</td>\n",
       "    </tr>\n",
       "    <tr>\n",
       "      <th>261866</th>\n",
       "      <td>www.akumenius.com</td>\n",
       "      <td>5.255.253.53</td>\n",
       "      <td>-</td>\n",
       "      <td>-</td>\n",
       "      <td>[02/Mar/2014:03:05:39</td>\n",
       "      <td>+0100]</td>\n",
       "      <td>GET / HTTP/1.1</td>\n",
       "      <td>200</td>\n",
       "      <td>7528</td>\n",
       "      <td>-</td>\n",
       "      <td>Mozilla/5.0 (compatible; YandexBot/3.0; +http:...</td>\n",
       "      <td>VLOG=-</td>\n",
       "    </tr>\n",
       "    <tr>\n",
       "      <th>261867</th>\n",
       "      <td>www.akumenius.com</td>\n",
       "      <td>74.86.158.107</td>\n",
       "      <td>-</td>\n",
       "      <td>-</td>\n",
       "      <td>[02/Mar/2014:03:09:52</td>\n",
       "      <td>+0100]</td>\n",
       "      <td>HEAD / HTTP/1.1</td>\n",
       "      <td>200</td>\n",
       "      <td>-</td>\n",
       "      <td>-</td>\n",
       "      <td>Mozilla/5.0+(compatible; UptimeRobot/2.0; http...</td>\n",
       "      <td>VLOG=-</td>\n",
       "    </tr>\n",
       "    <tr>\n",
       "      <th>261868</th>\n",
       "      <td>localhost</td>\n",
       "      <td>127.0.0.1</td>\n",
       "      <td>-</td>\n",
       "      <td>-</td>\n",
       "      <td>[02/Mar/2014:03:10:18</td>\n",
       "      <td>+0100]</td>\n",
       "      <td>OPTIONS * HTTP/1.0</td>\n",
       "      <td>200</td>\n",
       "      <td>-</td>\n",
       "      <td>-</td>\n",
       "      <td>Apache (internal dummy connection)</td>\n",
       "      <td>VLOG=-</td>\n",
       "    </tr>\n",
       "    <tr>\n",
       "      <th>261869</th>\n",
       "      <td>localhost</td>\n",
       "      <td>127.0.0.1</td>\n",
       "      <td>-</td>\n",
       "      <td>-</td>\n",
       "      <td>[02/Mar/2014:03:10:18</td>\n",
       "      <td>+0100]</td>\n",
       "      <td>OPTIONS * HTTP/1.0</td>\n",
       "      <td>200</td>\n",
       "      <td>-</td>\n",
       "      <td>-</td>\n",
       "      <td>Apache (internal dummy connection)</td>\n",
       "      <td>VLOG=-</td>\n",
       "    </tr>\n",
       "    <tr>\n",
       "      <th>261870</th>\n",
       "      <td>localhost</td>\n",
       "      <td>127.0.0.1</td>\n",
       "      <td>-</td>\n",
       "      <td>-</td>\n",
       "      <td>[02/Mar/2014:03:10:18</td>\n",
       "      <td>+0100]</td>\n",
       "      <td>OPTIONS * HTTP/1.0</td>\n",
       "      <td>200</td>\n",
       "      <td>-</td>\n",
       "      <td>-</td>\n",
       "      <td>Apache (internal dummy connection)</td>\n",
       "      <td>VLOG=-</td>\n",
       "    </tr>\n",
       "  </tbody>\n",
       "</table>\n",
       "<p>261871 rows × 12 columns</p>\n",
       "</div>"
      ],
      "text/plain": [
       "                       0              1  2  3                      4       5   \\\n",
       "0               localhost      127.0.0.1  -  -  [23/Feb/2014:03:10:31  +0100]   \n",
       "1               localhost      127.0.0.1  -  -  [23/Feb/2014:03:10:31  +0100]   \n",
       "2               localhost      127.0.0.1  -  -  [23/Feb/2014:03:10:31  +0100]   \n",
       "3               localhost      127.0.0.1  -  -  [23/Feb/2014:03:10:31  +0100]   \n",
       "4               localhost      127.0.0.1  -  -  [23/Feb/2014:03:10:31  +0100]   \n",
       "...                   ...            ... .. ..                    ...     ...   \n",
       "261866  www.akumenius.com   5.255.253.53  -  -  [02/Mar/2014:03:05:39  +0100]   \n",
       "261867  www.akumenius.com  74.86.158.107  -  -  [02/Mar/2014:03:09:52  +0100]   \n",
       "261868          localhost      127.0.0.1  -  -  [02/Mar/2014:03:10:18  +0100]   \n",
       "261869          localhost      127.0.0.1  -  -  [02/Mar/2014:03:10:18  +0100]   \n",
       "261870          localhost      127.0.0.1  -  -  [02/Mar/2014:03:10:18  +0100]   \n",
       "\n",
       "                        6    7     8  9   \\\n",
       "0       OPTIONS * HTTP/1.0  200     -  -   \n",
       "1       OPTIONS * HTTP/1.0  200     -  -   \n",
       "2       OPTIONS * HTTP/1.0  200     -  -   \n",
       "3       OPTIONS * HTTP/1.0  200     -  -   \n",
       "4       OPTIONS * HTTP/1.0  200     -  -   \n",
       "...                    ...  ...   ... ..   \n",
       "261866      GET / HTTP/1.1  200  7528  -   \n",
       "261867     HEAD / HTTP/1.1  200     -  -   \n",
       "261868  OPTIONS * HTTP/1.0  200     -  -   \n",
       "261869  OPTIONS * HTTP/1.0  200     -  -   \n",
       "261870  OPTIONS * HTTP/1.0  200     -  -   \n",
       "\n",
       "                                                       10      11  \n",
       "0                      Apache (internal dummy connection)  VLOG=-  \n",
       "1                      Apache (internal dummy connection)  VLOG=-  \n",
       "2                      Apache (internal dummy connection)  VLOG=-  \n",
       "3                      Apache (internal dummy connection)  VLOG=-  \n",
       "4                      Apache (internal dummy connection)  VLOG=-  \n",
       "...                                                   ...     ...  \n",
       "261866  Mozilla/5.0 (compatible; YandexBot/3.0; +http:...  VLOG=-  \n",
       "261867  Mozilla/5.0+(compatible; UptimeRobot/2.0; http...  VLOG=-  \n",
       "261868                 Apache (internal dummy connection)  VLOG=-  \n",
       "261869                 Apache (internal dummy connection)  VLOG=-  \n",
       "261870                 Apache (internal dummy connection)  VLOG=-  \n",
       "\n",
       "[261871 rows x 12 columns]"
      ]
     },
     "execution_count": 24,
     "metadata": {},
     "output_type": "execute_result"
    }
   ],
   "source": [
    "df"
   ]
  },
  {
   "cell_type": "markdown",
   "id": "040b876b",
   "metadata": {},
   "source": [
    "Hay que comprobar este error que daba al inicio\n",
    "\n",
    "ParserError: Error tokenizing data. C error: Expected 12 fields in line 181474, saw 13\n",
    "\n",
    "También ha dado los siguientes errores al cargarlo la última vez\n",
    "\n",
    "b'Skipping line 181474: expected 12 fields, saw 13\\n'\n",
    "\n",
    "b'Skipping line 236497: expected 12 fields, saw 13\\n'\n"
   ]
  },
  {
   "cell_type": "code",
   "execution_count": 25,
   "id": "aa2cfcbc",
   "metadata": {},
   "outputs": [
    {
     "name": "stdout",
     "output_type": "stream",
     "text": [
      "0                                     www.akumenius.com\n",
      "1                                          180.76.6.147\n",
      "2                                                     -\n",
      "3                                                     -\n",
      "4                                 [26/Feb/2014:23:44:50\n",
      "5                                                +0100]\n",
      "6     GET /destinos-baratos/hoteles-en-PittsburgKSES...\n",
      "7                                                   200\n",
      "8                                                  7216\n",
      "9                                                     -\n",
      "10    Mozilla/5.0 (compatible; Baiduspider/2.0; +htt...\n",
      "11                                               VLOG=-\n",
      "Name: 181474, dtype: object\n"
     ]
    }
   ],
   "source": [
    "print(df.iloc[181474,:])"
   ]
  },
  {
   "cell_type": "code",
   "execution_count": 26,
   "id": "687020f3",
   "metadata": {},
   "outputs": [
    {
     "name": "stdout",
     "output_type": "stream",
     "text": [
      "0                              localhost\n",
      "1                              127.0.0.1\n",
      "2                                      -\n",
      "3                                      -\n",
      "4                  [28/Feb/2014:16:07:24\n",
      "5                                 +0100]\n",
      "6                     OPTIONS * HTTP/1.0\n",
      "7                                    200\n",
      "8                                      -\n",
      "9                                      -\n",
      "10    Apache (internal dummy connection)\n",
      "11                                VLOG=-\n",
      "Name: 236497, dtype: object\n"
     ]
    }
   ],
   "source": [
    "print(df.iloc[236497,:])"
   ]
  },
  {
   "cell_type": "code",
   "execution_count": 27,
   "id": "3479511e",
   "metadata": {},
   "outputs": [
    {
     "name": "stdout",
     "output_type": "stream",
     "text": [
      "0                                     www.akumenius.com\n",
      "1                                         66.249.76.216\n",
      "2                                                     -\n",
      "3                                                     -\n",
      "4                                 [23/Feb/2014:03:10:33\n",
      "5                                                +0100]\n",
      "6     GET /hoteles-baratos/ofertas-hotel-Metropolis-...\n",
      "7                                                   404\n",
      "8                                                  3100\n",
      "9                                                     -\n",
      "10    Mozilla/5.0 (compatible; Googlebot/2.1; +http:...\n",
      "11                                               VLOG=-\n",
      "Name: 23, dtype: object\n"
     ]
    }
   ],
   "source": [
    "print(df.iloc[23,:])"
   ]
  },
  {
   "cell_type": "markdown",
   "id": "944a55c6",
   "metadata": {},
   "source": [
    "Los dos objetos que han dado problemas parecen conservar la misma información que el resto de filas. Por lo tanto no se tocan ni es necesario modificarlas.\n",
    "\n",
    "Tamaño del dataframe"
   ]
  },
  {
   "cell_type": "code",
   "execution_count": 22,
   "id": "77cbc542",
   "metadata": {},
   "outputs": [
    {
     "data": {
      "text/plain": [
       "(261871, 12)"
      ]
     },
     "execution_count": 22,
     "metadata": {},
     "output_type": "execute_result"
    }
   ],
   "source": [
    "df.shape"
   ]
  },
  {
   "cell_type": "markdown",
   "id": "83713fcd",
   "metadata": {},
   "source": [
    "Tareas a realizar:\n",
    "* Definir nombre columnas\n",
    "** 0 hosting\n",
    "** 1 IP\n",
    "** 2 y 3 comprobar si contienen datos\n",
    "** 4 Fecha+hora\n",
    "** 5 Franja horaria, necesita limpiarlo\n",
    "** 6 parece dirección web, no tocar o revisar contenido\n",
    "** 7 Desconocido\n",
    "** 8 Desconocido\n",
    "** 9 Desconocido, comprobar si contiene datos\n",
    "** 10 Navegador y algo más a comprobar\n",
    "** 11 Desconocido, comprobar valores\n",
    "* Transformar fecha y hora en variables utilizables\n",
    "* Revisar punto 10 por si es necesario separarlo\n",
    "\n",
    "\n"
   ]
  },
  {
   "cell_type": "markdown",
   "id": "cec033d5",
   "metadata": {},
   "source": [
    "Se comienza comprobando la columna 2,3, 7, 8, 9 y 11 por si se pueden eliminar:"
   ]
  },
  {
   "cell_type": "code",
   "execution_count": 3,
   "id": "6f6e5095",
   "metadata": {},
   "outputs": [
    {
     "data": {
      "text/plain": [
       "Int64Index([0, 1, 2, 3, 4, 5, 6, 7, 8, 9, 10, 11], dtype='int64')"
      ]
     },
     "execution_count": 3,
     "metadata": {},
     "output_type": "execute_result"
    }
   ],
   "source": [
    "df.columns"
   ]
  },
  {
   "cell_type": "code",
   "execution_count": 16,
   "id": "d42edb5e",
   "metadata": {},
   "outputs": [
    {
     "data": {
      "text/plain": [
       "2\n",
       "-    261871\n",
       "dtype: int64"
      ]
     },
     "execution_count": 16,
     "metadata": {},
     "output_type": "execute_result"
    }
   ],
   "source": [
    "df.iloc[:,[2]].value_counts()"
   ]
  },
  {
   "cell_type": "code",
   "execution_count": 37,
   "id": "5978fb6e",
   "metadata": {},
   "outputs": [
    {
     "data": {
      "text/plain": [
       "3      \n",
       "-          261844\n",
       "clarcat        27\n",
       "dtype: int64"
      ]
     },
     "execution_count": 37,
     "metadata": {},
     "output_type": "execute_result"
    }
   ],
   "source": [
    "df.iloc[:,[3]].value_counts()"
   ]
  },
  {
   "cell_type": "code",
   "execution_count": 50,
   "id": "2e079642",
   "metadata": {},
   "outputs": [
    {
     "data": {
      "text/plain": [
       "6                                                                                      \n",
       "OPTIONS * HTTP/1.0                                                                         13892\n",
       "POST /destinos-get HTTP/1.1                                                                 8056\n",
       "POST /hotel-list-data/ HTTP/1.1                                                             2318\n",
       "GET / HTTP/1.1                                                                              2216\n",
       "HEAD / HTTP/1.1                                                                             1723\n",
       "                                                                                           ...  \n",
       "GET /destinos-baratos/hoteles-en-FUTUROSCOPEFRANCIA_ HTTP/1.1                                  1\n",
       "GET /destinos-baratos/hoteles-en-Fabero_ESPA%C3%91A HTTP/1.1                                   1\n",
       "GET /destinos-baratos/hoteles-en-FairbornOHESTADOS-UNIDOS_ HTTP/1.1                            1\n",
       "GET /destinos-baratos/hoteles-en-Fall-RiverMAESTADOS-UNIDOS_ HTTP/1.1                          1\n",
       "GET /destinos-caracteristicas/hoteles-baratos-en-Maribor_ESLOVENIA-con-Quiosco HTTP/1.1        1\n",
       "Length: 66762, dtype: int64"
      ]
     },
     "execution_count": 50,
     "metadata": {},
     "output_type": "execute_result"
    }
   ],
   "source": [
    "#Exploro la 6 para entender de que va\n",
    "df.iloc[:,[6]].value_counts()"
   ]
  },
  {
   "cell_type": "code",
   "execution_count": 46,
   "id": "bc466f4d",
   "metadata": {},
   "outputs": [
    {
     "data": {
      "text/plain": [
       "7  \n",
       "200    226380\n",
       "304     25269\n",
       "404      8630\n",
       "301       870\n",
       "206       304\n",
       "403       194\n",
       "302       109\n",
       "502        44\n",
       "408        37\n",
       "400        26\n",
       "401         5\n",
       "500         3\n",
       "dtype: int64"
      ]
     },
     "execution_count": 46,
     "metadata": {},
     "output_type": "execute_result"
    }
   ],
   "source": [
    "#Se comprueban también las columnas 7,8,9, 10 y 11\n",
    "df.iloc[:,[7]].value_counts()"
   ]
  },
  {
   "cell_type": "code",
   "execution_count": 47,
   "id": "42890cef",
   "metadata": {},
   "outputs": [
    {
     "data": {
      "text/plain": [
       "8    \n",
       "-        42335\n",
       "3100     10577\n",
       "26        4501\n",
       "3175      3731\n",
       "8158      2209\n",
       "         ...  \n",
       "22992        1\n",
       "22995        1\n",
       "22996        1\n",
       "22997        1\n",
       "99990        1\n",
       "Length: 15548, dtype: int64"
      ]
     },
     "execution_count": 47,
     "metadata": {},
     "output_type": "execute_result"
    }
   ],
   "source": [
    "df.iloc[:,[8]].value_counts()"
   ]
  },
  {
   "cell_type": "code",
   "execution_count": 48,
   "id": "df864efc",
   "metadata": {},
   "outputs": [
    {
     "data": {
      "text/plain": [
       "9                                                                                                                                                                                                                                                                                                                                                                 \n",
       "-                                                                                                                                                                                                                                                                                                                                                                     99545\n",
       "http://www.akumenius.com/                                                                                                                                                                                                                                                                                                                                             41394\n",
       "http://www.akumenius.com/hotel-list                                                                                                                                                                                                                                                                                                                                   22039\n",
       "http://test.akumenius.com/newdesign/                                                                                                                                                                                                                                                                                                                                  11839\n",
       "http://www.akumenius.com/hoteles-baratos/hoteles-todo-incluido.html                                                                                                                                                                                                                                                                                                    5398\n",
       "                                                                                                                                                                                                                                                                                                                                                                      ...  \n",
       "http://www.google.es/aclk?sa=L&ai=CUkSE_cQNU9f0MYTIiwbrsoGoAo2dy7gEjba3hVubtKiHCggAEAIoA1CX286vBWDVhYCAuAjIAQGpAmi6_ccAD7c-qgQoT9BJ-RoIzJw387WUQtP8IZ5aGAnzaZN4oZvuqGhilQRNCB7CKH33x4AHkcqaE5AHAw&sig=AOD64_1JVxnN66MAiyTZtRegFltNG9dBfQ&rct=j&q=TODO+INCLUIDO+EN+ANDALUCIA&ved=0CDoQ0Qw&adurl=http://www.akumenius.com/hoteles-baratos/hoteles-todo-incluido.html        1\n",
       "http://www.akumenius.com/destinosCaracteristicas/hoteles-baratos-en-CASTILLA-Y-LE%C3%93N_ESPA%C3%91A-con-Sal%C3%B3n-de-banquetes                                                                                                                                                                                                                                          1\n",
       "http://www.google.es/aclk?sa=L&ai=CVozb_r4MU9XLEsuojAbk_IHwDIWf4bUEjZ-np4gBoJ68HQgAEAEoA1DEuMuJBWDVhYCA3AjIAQGpAjr6dSWWFLc-qgQoT9D1fkeVuDJN8NDgAF7pVwjsiEL0srk6OaAadG-ENHKweByknm9cPYAHkcqaE5AHAw&sig=AOD64_3TqpbTqn-vU3MFbVdd9H2CXEPL8w&rct=j&q=oferta+semana+santa+santa+coloma+farners&ved=0CC4Q0Qw&adurl=http://www.akumenius.com&cad=rja                             1\n",
       "http://www.akumenius.com/destinosCaracteristicas/hoteles-baratos-en-Buzios_BRASIL-con-Aire-acondicionado-en-zonas-comunes                                                                                                                                                                                                                                                 1\n",
       "https://www.google.ru/                                                                                                                                                                                                                                                                                                                                                    1\n",
       "Length: 2507, dtype: int64"
      ]
     },
     "execution_count": 48,
     "metadata": {},
     "output_type": "execute_result"
    }
   ],
   "source": [
    "df.iloc[:,[9]].value_counts()"
   ]
  },
  {
   "cell_type": "code",
   "execution_count": 49,
   "id": "2c84779b",
   "metadata": {},
   "outputs": [
    {
     "data": {
      "text/plain": [
       "10                                                                                                                                                                \n",
       "Mozilla/5.0 (compatible; Googlebot/2.1; +http://www.google.com/bot.html)                                                                                              50914\n",
       "Mozilla/5.0 (X11; U; Linux i686; ca; rv:1.9.2.17) Gecko/20110428 Fedora/3.6.17-1.fc13 Firefox/3.6.17                                                                  13920\n",
       "Apache (internal dummy connection)                                                                                                                                    13892\n",
       "Mozilla/5.0 (Windows NT 6.1; WOW64) AppleWebKit/537.36 (KHTML, like Gecko) Chrome/33.0.1750.117 Safari/537.36                                                          9388\n",
       "Mozilla/5.0 (Windows NT 6.1) AppleWebKit/537.36 (KHTML, like Gecko) Chrome/33.0.1750.117 Safari/537.36                                                                 7761\n",
       "                                                                                                                                                                      ...  \n",
       "Mozilla/5.0 (Linux; U; Android 4.2.2; es-es; SM-T310 Build/JDQ39) AppleWebKit/534.30 (KHTML, like Gecko) Version/4.0 Safari/534.30 GSA/3.2.17.1009776.arm                 1\n",
       "Mozilla/5.0 (Linux; U; Android 4.2.2; es-us; GT-P5210 Build/JDQ39) AppleWebKit/534.30 (KHTML, like Gecko) Version/4.0 Safari/534.30 GSA/3.2.17.1009776.x86                1\n",
       "Mozilla/5.0 (Linux; U; Android 4.3; es-es; GT-N7100 Build/JSS15J) AppleWebKit/534.30 (KHTML, like Gecko) Version/4.0 Mobile Safari/534.30 GSA/3.2.17.1009776.arm          1\n",
       "Mozilla/5.0 (Linux; U; Android 4.3; es-es; SM-N9005 Build/JSS15J) AppleWebKit/534.30 (KHTML, like Gecko) Version/4.0 Mobile Safari/534.30 GSA/3.2.17.1009776.arm          1\n",
       "Mozilla/5.0 (Linux; U; Android 4.1.2; es-es; GT-I9100 Build/JZO54K) AppleWebKit/534.30 (KHTML, like Gecko) Version/4.0 Mobile Safari/534.30 GSA/3.2.17.1009776.arm        1\n",
       "Length: 735, dtype: int64"
      ]
     },
     "execution_count": 49,
     "metadata": {},
     "output_type": "execute_result"
    }
   ],
   "source": [
    "df.iloc[:,[10]].value_counts()"
   ]
  },
  {
   "cell_type": "code",
   "execution_count": 41,
   "id": "dbd3fd81",
   "metadata": {},
   "outputs": [
    {
     "data": {
      "text/plain": [
       "11    \n",
       "VLOG=-    261871\n",
       "dtype: int64"
      ]
     },
     "execution_count": 41,
     "metadata": {},
     "output_type": "execute_result"
    }
   ],
   "source": [
    "df.iloc[:,[11]].value_counts()"
   ]
  },
  {
   "cell_type": "markdown",
   "id": "e940b53a",
   "metadata": {},
   "source": [
    "Se eliminará la columna 2 ya que todos los datos son guiones y la columna 11 que se repite la información constantemente. Del resto de columnas se conserva la información."
   ]
  },
  {
   "cell_type": "code",
   "execution_count": 42,
   "id": "88c2c805",
   "metadata": {
    "scrolled": true
   },
   "outputs": [
    {
     "data": {
      "text/plain": [
       "(261871, 12)"
      ]
     },
     "execution_count": 42,
     "metadata": {},
     "output_type": "execute_result"
    }
   ],
   "source": [
    "#Antes de borrar comprobamos la cantidad de datos\n",
    "df.shape"
   ]
  },
  {
   "cell_type": "code",
   "execution_count": 3,
   "id": "59c69e3c",
   "metadata": {},
   "outputs": [
    {
     "name": "stdout",
     "output_type": "stream",
     "text": [
      "(261871, 10)\n"
     ]
    }
   ],
   "source": [
    "df = df.drop([2,11], axis=1)\n",
    "print(df.shape)"
   ]
  },
  {
   "cell_type": "markdown",
   "id": "5f59942a",
   "metadata": {},
   "source": [
    "La columna 3 se pasará a nombrar clarcat, mientras que la 7 contiene valores de tipo int, 8 direcciones web y 9 navegadores.\n",
    "\n",
    "Pasamos a poner nombre a las columnas:"
   ]
  },
  {
   "cell_type": "code",
   "execution_count": 4,
   "id": "72c272da",
   "metadata": {},
   "outputs": [],
   "source": [
    "#Se pone nombre a cada columna\n",
    "df.columns = ['host', 'IP', 'clarcat', 'dataHora', 'timeZone', 'visitedPage', 'numberVisits', 'values', 'webAcces', 'navegador'] "
   ]
  },
  {
   "cell_type": "code",
   "execution_count": 5,
   "id": "deebf919",
   "metadata": {},
   "outputs": [
    {
     "data": {
      "text/html": [
       "<div>\n",
       "<style scoped>\n",
       "    .dataframe tbody tr th:only-of-type {\n",
       "        vertical-align: middle;\n",
       "    }\n",
       "\n",
       "    .dataframe tbody tr th {\n",
       "        vertical-align: top;\n",
       "    }\n",
       "\n",
       "    .dataframe thead th {\n",
       "        text-align: right;\n",
       "    }\n",
       "</style>\n",
       "<table border=\"1\" class=\"dataframe\">\n",
       "  <thead>\n",
       "    <tr style=\"text-align: right;\">\n",
       "      <th></th>\n",
       "      <th>host</th>\n",
       "      <th>IP</th>\n",
       "      <th>clarcat</th>\n",
       "      <th>dataHora</th>\n",
       "      <th>timeZone</th>\n",
       "      <th>visitedPage</th>\n",
       "      <th>numberVisits</th>\n",
       "      <th>values</th>\n",
       "      <th>webAcces</th>\n",
       "      <th>navegador</th>\n",
       "    </tr>\n",
       "  </thead>\n",
       "  <tbody>\n",
       "    <tr>\n",
       "      <th>0</th>\n",
       "      <td>localhost</td>\n",
       "      <td>127.0.0.1</td>\n",
       "      <td>-</td>\n",
       "      <td>[23/Feb/2014:03:10:31</td>\n",
       "      <td>+0100]</td>\n",
       "      <td>OPTIONS * HTTP/1.0</td>\n",
       "      <td>200</td>\n",
       "      <td>-</td>\n",
       "      <td>-</td>\n",
       "      <td>Apache (internal dummy connection)</td>\n",
       "    </tr>\n",
       "    <tr>\n",
       "      <th>1</th>\n",
       "      <td>localhost</td>\n",
       "      <td>127.0.0.1</td>\n",
       "      <td>-</td>\n",
       "      <td>[23/Feb/2014:03:10:31</td>\n",
       "      <td>+0100]</td>\n",
       "      <td>OPTIONS * HTTP/1.0</td>\n",
       "      <td>200</td>\n",
       "      <td>-</td>\n",
       "      <td>-</td>\n",
       "      <td>Apache (internal dummy connection)</td>\n",
       "    </tr>\n",
       "    <tr>\n",
       "      <th>2</th>\n",
       "      <td>localhost</td>\n",
       "      <td>127.0.0.1</td>\n",
       "      <td>-</td>\n",
       "      <td>[23/Feb/2014:03:10:31</td>\n",
       "      <td>+0100]</td>\n",
       "      <td>OPTIONS * HTTP/1.0</td>\n",
       "      <td>200</td>\n",
       "      <td>-</td>\n",
       "      <td>-</td>\n",
       "      <td>Apache (internal dummy connection)</td>\n",
       "    </tr>\n",
       "    <tr>\n",
       "      <th>3</th>\n",
       "      <td>localhost</td>\n",
       "      <td>127.0.0.1</td>\n",
       "      <td>-</td>\n",
       "      <td>[23/Feb/2014:03:10:31</td>\n",
       "      <td>+0100]</td>\n",
       "      <td>OPTIONS * HTTP/1.0</td>\n",
       "      <td>200</td>\n",
       "      <td>-</td>\n",
       "      <td>-</td>\n",
       "      <td>Apache (internal dummy connection)</td>\n",
       "    </tr>\n",
       "    <tr>\n",
       "      <th>4</th>\n",
       "      <td>localhost</td>\n",
       "      <td>127.0.0.1</td>\n",
       "      <td>-</td>\n",
       "      <td>[23/Feb/2014:03:10:31</td>\n",
       "      <td>+0100]</td>\n",
       "      <td>OPTIONS * HTTP/1.0</td>\n",
       "      <td>200</td>\n",
       "      <td>-</td>\n",
       "      <td>-</td>\n",
       "      <td>Apache (internal dummy connection)</td>\n",
       "    </tr>\n",
       "  </tbody>\n",
       "</table>\n",
       "</div>"
      ],
      "text/plain": [
       "        host         IP clarcat               dataHora timeZone  \\\n",
       "0  localhost  127.0.0.1       -  [23/Feb/2014:03:10:31   +0100]   \n",
       "1  localhost  127.0.0.1       -  [23/Feb/2014:03:10:31   +0100]   \n",
       "2  localhost  127.0.0.1       -  [23/Feb/2014:03:10:31   +0100]   \n",
       "3  localhost  127.0.0.1       -  [23/Feb/2014:03:10:31   +0100]   \n",
       "4  localhost  127.0.0.1       -  [23/Feb/2014:03:10:31   +0100]   \n",
       "\n",
       "          visitedPage  numberVisits values webAcces  \\\n",
       "0  OPTIONS * HTTP/1.0           200      -        -   \n",
       "1  OPTIONS * HTTP/1.0           200      -        -   \n",
       "2  OPTIONS * HTTP/1.0           200      -        -   \n",
       "3  OPTIONS * HTTP/1.0           200      -        -   \n",
       "4  OPTIONS * HTTP/1.0           200      -        -   \n",
       "\n",
       "                            navegador  \n",
       "0  Apache (internal dummy connection)  \n",
       "1  Apache (internal dummy connection)  \n",
       "2  Apache (internal dummy connection)  \n",
       "3  Apache (internal dummy connection)  \n",
       "4  Apache (internal dummy connection)  "
      ]
     },
     "execution_count": 5,
     "metadata": {},
     "output_type": "execute_result"
    }
   ],
   "source": [
    "df.head()"
   ]
  },
  {
   "cell_type": "markdown",
   "id": "414d9cfa",
   "metadata": {},
   "source": [
    "Una vez cambiado los nombres el siguiente paso es modificar clarcat en true o false. False si no hay datos y True si el valor es clarcat"
   ]
  },
  {
   "cell_type": "code",
   "execution_count": 5,
   "id": "adeec4e8",
   "metadata": {},
   "outputs": [
    {
     "data": {
      "text/plain": [
       "False    261844\n",
       "True         27\n",
       "Name: clarcat, dtype: int64"
      ]
     },
     "execution_count": 5,
     "metadata": {},
     "output_type": "execute_result"
    }
   ],
   "source": [
    "df.clarcat = df['clarcat'].apply(lambda x: False if x == '-' else True)\n",
    "df.clarcat.value_counts()"
   ]
  },
  {
   "cell_type": "markdown",
   "id": "52099b4e",
   "metadata": {},
   "source": [
    "Pasamos a separar la data de la hora"
   ]
  },
  {
   "cell_type": "code",
   "execution_count": 6,
   "id": "29b620eb",
   "metadata": {},
   "outputs": [],
   "source": [
    "df2 = df.copy()"
   ]
  },
  {
   "cell_type": "code",
   "execution_count": 8,
   "id": "fb69d168",
   "metadata": {
    "scrolled": true
   },
   "outputs": [
    {
     "data": {
      "text/html": [
       "<div>\n",
       "<style scoped>\n",
       "    .dataframe tbody tr th:only-of-type {\n",
       "        vertical-align: middle;\n",
       "    }\n",
       "\n",
       "    .dataframe tbody tr th {\n",
       "        vertical-align: top;\n",
       "    }\n",
       "\n",
       "    .dataframe thead th {\n",
       "        text-align: right;\n",
       "    }\n",
       "</style>\n",
       "<table border=\"1\" class=\"dataframe\">\n",
       "  <thead>\n",
       "    <tr style=\"text-align: right;\">\n",
       "      <th></th>\n",
       "      <th>host</th>\n",
       "      <th>IP</th>\n",
       "      <th>clarcat</th>\n",
       "      <th>dataHora</th>\n",
       "      <th>timeZone</th>\n",
       "      <th>visitedPage</th>\n",
       "      <th>numberVisits</th>\n",
       "      <th>values</th>\n",
       "      <th>webAcces</th>\n",
       "      <th>navegador</th>\n",
       "    </tr>\n",
       "  </thead>\n",
       "  <tbody>\n",
       "    <tr>\n",
       "      <th>0</th>\n",
       "      <td>localhost</td>\n",
       "      <td>127.0.0.1</td>\n",
       "      <td>False</td>\n",
       "      <td>[23/Feb/2014:03:10:31</td>\n",
       "      <td>+0100]</td>\n",
       "      <td>OPTIONS * HTTP/1.0</td>\n",
       "      <td>200</td>\n",
       "      <td>-</td>\n",
       "      <td>-</td>\n",
       "      <td>Apache (internal dummy connection)</td>\n",
       "    </tr>\n",
       "    <tr>\n",
       "      <th>1</th>\n",
       "      <td>localhost</td>\n",
       "      <td>127.0.0.1</td>\n",
       "      <td>False</td>\n",
       "      <td>[23/Feb/2014:03:10:31</td>\n",
       "      <td>+0100]</td>\n",
       "      <td>OPTIONS * HTTP/1.0</td>\n",
       "      <td>200</td>\n",
       "      <td>-</td>\n",
       "      <td>-</td>\n",
       "      <td>Apache (internal dummy connection)</td>\n",
       "    </tr>\n",
       "    <tr>\n",
       "      <th>2</th>\n",
       "      <td>localhost</td>\n",
       "      <td>127.0.0.1</td>\n",
       "      <td>False</td>\n",
       "      <td>[23/Feb/2014:03:10:31</td>\n",
       "      <td>+0100]</td>\n",
       "      <td>OPTIONS * HTTP/1.0</td>\n",
       "      <td>200</td>\n",
       "      <td>-</td>\n",
       "      <td>-</td>\n",
       "      <td>Apache (internal dummy connection)</td>\n",
       "    </tr>\n",
       "    <tr>\n",
       "      <th>3</th>\n",
       "      <td>localhost</td>\n",
       "      <td>127.0.0.1</td>\n",
       "      <td>False</td>\n",
       "      <td>[23/Feb/2014:03:10:31</td>\n",
       "      <td>+0100]</td>\n",
       "      <td>OPTIONS * HTTP/1.0</td>\n",
       "      <td>200</td>\n",
       "      <td>-</td>\n",
       "      <td>-</td>\n",
       "      <td>Apache (internal dummy connection)</td>\n",
       "    </tr>\n",
       "    <tr>\n",
       "      <th>4</th>\n",
       "      <td>localhost</td>\n",
       "      <td>127.0.0.1</td>\n",
       "      <td>False</td>\n",
       "      <td>[23/Feb/2014:03:10:31</td>\n",
       "      <td>+0100]</td>\n",
       "      <td>OPTIONS * HTTP/1.0</td>\n",
       "      <td>200</td>\n",
       "      <td>-</td>\n",
       "      <td>-</td>\n",
       "      <td>Apache (internal dummy connection)</td>\n",
       "    </tr>\n",
       "  </tbody>\n",
       "</table>\n",
       "</div>"
      ],
      "text/plain": [
       "        host         IP  clarcat               dataHora timeZone  \\\n",
       "0  localhost  127.0.0.1    False  [23/Feb/2014:03:10:31   +0100]   \n",
       "1  localhost  127.0.0.1    False  [23/Feb/2014:03:10:31   +0100]   \n",
       "2  localhost  127.0.0.1    False  [23/Feb/2014:03:10:31   +0100]   \n",
       "3  localhost  127.0.0.1    False  [23/Feb/2014:03:10:31   +0100]   \n",
       "4  localhost  127.0.0.1    False  [23/Feb/2014:03:10:31   +0100]   \n",
       "\n",
       "          visitedPage  numberVisits values webAcces  \\\n",
       "0  OPTIONS * HTTP/1.0           200      -        -   \n",
       "1  OPTIONS * HTTP/1.0           200      -        -   \n",
       "2  OPTIONS * HTTP/1.0           200      -        -   \n",
       "3  OPTIONS * HTTP/1.0           200      -        -   \n",
       "4  OPTIONS * HTTP/1.0           200      -        -   \n",
       "\n",
       "                            navegador  \n",
       "0  Apache (internal dummy connection)  \n",
       "1  Apache (internal dummy connection)  \n",
       "2  Apache (internal dummy connection)  \n",
       "3  Apache (internal dummy connection)  \n",
       "4  Apache (internal dummy connection)  "
      ]
     },
     "execution_count": 8,
     "metadata": {},
     "output_type": "execute_result"
    }
   ],
   "source": [
    "df2.head()"
   ]
  },
  {
   "cell_type": "code",
   "execution_count": 7,
   "id": "9aef2b01",
   "metadata": {},
   "outputs": [],
   "source": [
    "df2['dataHora']=df2['dataHora'].apply(lambda x: x[1:])"
   ]
  },
  {
   "cell_type": "code",
   "execution_count": 10,
   "id": "dca9fa6e",
   "metadata": {},
   "outputs": [
    {
     "data": {
      "text/html": [
       "<div>\n",
       "<style scoped>\n",
       "    .dataframe tbody tr th:only-of-type {\n",
       "        vertical-align: middle;\n",
       "    }\n",
       "\n",
       "    .dataframe tbody tr th {\n",
       "        vertical-align: top;\n",
       "    }\n",
       "\n",
       "    .dataframe thead th {\n",
       "        text-align: right;\n",
       "    }\n",
       "</style>\n",
       "<table border=\"1\" class=\"dataframe\">\n",
       "  <thead>\n",
       "    <tr style=\"text-align: right;\">\n",
       "      <th></th>\n",
       "      <th>host</th>\n",
       "      <th>IP</th>\n",
       "      <th>clarcat</th>\n",
       "      <th>dataHora</th>\n",
       "      <th>timeZone</th>\n",
       "      <th>visitedPage</th>\n",
       "      <th>numberVisits</th>\n",
       "      <th>values</th>\n",
       "      <th>webAcces</th>\n",
       "      <th>navegador</th>\n",
       "    </tr>\n",
       "  </thead>\n",
       "  <tbody>\n",
       "    <tr>\n",
       "      <th>0</th>\n",
       "      <td>localhost</td>\n",
       "      <td>127.0.0.1</td>\n",
       "      <td>False</td>\n",
       "      <td>23/Feb/2014:03:10:31</td>\n",
       "      <td>+0100]</td>\n",
       "      <td>OPTIONS * HTTP/1.0</td>\n",
       "      <td>200</td>\n",
       "      <td>-</td>\n",
       "      <td>-</td>\n",
       "      <td>Apache (internal dummy connection)</td>\n",
       "    </tr>\n",
       "    <tr>\n",
       "      <th>1</th>\n",
       "      <td>localhost</td>\n",
       "      <td>127.0.0.1</td>\n",
       "      <td>False</td>\n",
       "      <td>23/Feb/2014:03:10:31</td>\n",
       "      <td>+0100]</td>\n",
       "      <td>OPTIONS * HTTP/1.0</td>\n",
       "      <td>200</td>\n",
       "      <td>-</td>\n",
       "      <td>-</td>\n",
       "      <td>Apache (internal dummy connection)</td>\n",
       "    </tr>\n",
       "    <tr>\n",
       "      <th>2</th>\n",
       "      <td>localhost</td>\n",
       "      <td>127.0.0.1</td>\n",
       "      <td>False</td>\n",
       "      <td>23/Feb/2014:03:10:31</td>\n",
       "      <td>+0100]</td>\n",
       "      <td>OPTIONS * HTTP/1.0</td>\n",
       "      <td>200</td>\n",
       "      <td>-</td>\n",
       "      <td>-</td>\n",
       "      <td>Apache (internal dummy connection)</td>\n",
       "    </tr>\n",
       "    <tr>\n",
       "      <th>3</th>\n",
       "      <td>localhost</td>\n",
       "      <td>127.0.0.1</td>\n",
       "      <td>False</td>\n",
       "      <td>23/Feb/2014:03:10:31</td>\n",
       "      <td>+0100]</td>\n",
       "      <td>OPTIONS * HTTP/1.0</td>\n",
       "      <td>200</td>\n",
       "      <td>-</td>\n",
       "      <td>-</td>\n",
       "      <td>Apache (internal dummy connection)</td>\n",
       "    </tr>\n",
       "    <tr>\n",
       "      <th>4</th>\n",
       "      <td>localhost</td>\n",
       "      <td>127.0.0.1</td>\n",
       "      <td>False</td>\n",
       "      <td>23/Feb/2014:03:10:31</td>\n",
       "      <td>+0100]</td>\n",
       "      <td>OPTIONS * HTTP/1.0</td>\n",
       "      <td>200</td>\n",
       "      <td>-</td>\n",
       "      <td>-</td>\n",
       "      <td>Apache (internal dummy connection)</td>\n",
       "    </tr>\n",
       "  </tbody>\n",
       "</table>\n",
       "</div>"
      ],
      "text/plain": [
       "        host         IP  clarcat              dataHora timeZone  \\\n",
       "0  localhost  127.0.0.1    False  23/Feb/2014:03:10:31   +0100]   \n",
       "1  localhost  127.0.0.1    False  23/Feb/2014:03:10:31   +0100]   \n",
       "2  localhost  127.0.0.1    False  23/Feb/2014:03:10:31   +0100]   \n",
       "3  localhost  127.0.0.1    False  23/Feb/2014:03:10:31   +0100]   \n",
       "4  localhost  127.0.0.1    False  23/Feb/2014:03:10:31   +0100]   \n",
       "\n",
       "          visitedPage  numberVisits values webAcces  \\\n",
       "0  OPTIONS * HTTP/1.0           200      -        -   \n",
       "1  OPTIONS * HTTP/1.0           200      -        -   \n",
       "2  OPTIONS * HTTP/1.0           200      -        -   \n",
       "3  OPTIONS * HTTP/1.0           200      -        -   \n",
       "4  OPTIONS * HTTP/1.0           200      -        -   \n",
       "\n",
       "                            navegador  \n",
       "0  Apache (internal dummy connection)  \n",
       "1  Apache (internal dummy connection)  \n",
       "2  Apache (internal dummy connection)  \n",
       "3  Apache (internal dummy connection)  \n",
       "4  Apache (internal dummy connection)  "
      ]
     },
     "execution_count": 10,
     "metadata": {},
     "output_type": "execute_result"
    }
   ],
   "source": [
    "df2.head()"
   ]
  },
  {
   "cell_type": "code",
   "execution_count": 138,
   "id": "5c763f7a",
   "metadata": {},
   "outputs": [
    {
     "data": {
      "text/plain": [
       "+0100]    261871\n",
       "Name: timeZone, dtype: int64"
      ]
     },
     "execution_count": 138,
     "metadata": {},
     "output_type": "execute_result"
    }
   ],
   "source": [
    "df2.timeZone.value_counts()"
   ]
  },
  {
   "cell_type": "markdown",
   "id": "9cb17266",
   "metadata": {},
   "source": [
    "Acabamos de ver que timezone tampoco aporta información porque siempre contiene el mismo valor, por lo tanto lo eliminamos"
   ]
  },
  {
   "cell_type": "code",
   "execution_count": 8,
   "id": "aa08db1c",
   "metadata": {},
   "outputs": [
    {
     "data": {
      "text/html": [
       "<div>\n",
       "<style scoped>\n",
       "    .dataframe tbody tr th:only-of-type {\n",
       "        vertical-align: middle;\n",
       "    }\n",
       "\n",
       "    .dataframe tbody tr th {\n",
       "        vertical-align: top;\n",
       "    }\n",
       "\n",
       "    .dataframe thead th {\n",
       "        text-align: right;\n",
       "    }\n",
       "</style>\n",
       "<table border=\"1\" class=\"dataframe\">\n",
       "  <thead>\n",
       "    <tr style=\"text-align: right;\">\n",
       "      <th></th>\n",
       "      <th>host</th>\n",
       "      <th>IP</th>\n",
       "      <th>clarcat</th>\n",
       "      <th>dataHora</th>\n",
       "      <th>visitedPage</th>\n",
       "      <th>numberVisits</th>\n",
       "      <th>values</th>\n",
       "      <th>webAcces</th>\n",
       "      <th>navegador</th>\n",
       "    </tr>\n",
       "  </thead>\n",
       "  <tbody>\n",
       "    <tr>\n",
       "      <th>0</th>\n",
       "      <td>localhost</td>\n",
       "      <td>127.0.0.1</td>\n",
       "      <td>False</td>\n",
       "      <td>23/Feb/2014:03:10:31</td>\n",
       "      <td>OPTIONS * HTTP/1.0</td>\n",
       "      <td>200</td>\n",
       "      <td>-</td>\n",
       "      <td>-</td>\n",
       "      <td>Apache (internal dummy connection)</td>\n",
       "    </tr>\n",
       "    <tr>\n",
       "      <th>1</th>\n",
       "      <td>localhost</td>\n",
       "      <td>127.0.0.1</td>\n",
       "      <td>False</td>\n",
       "      <td>23/Feb/2014:03:10:31</td>\n",
       "      <td>OPTIONS * HTTP/1.0</td>\n",
       "      <td>200</td>\n",
       "      <td>-</td>\n",
       "      <td>-</td>\n",
       "      <td>Apache (internal dummy connection)</td>\n",
       "    </tr>\n",
       "    <tr>\n",
       "      <th>2</th>\n",
       "      <td>localhost</td>\n",
       "      <td>127.0.0.1</td>\n",
       "      <td>False</td>\n",
       "      <td>23/Feb/2014:03:10:31</td>\n",
       "      <td>OPTIONS * HTTP/1.0</td>\n",
       "      <td>200</td>\n",
       "      <td>-</td>\n",
       "      <td>-</td>\n",
       "      <td>Apache (internal dummy connection)</td>\n",
       "    </tr>\n",
       "    <tr>\n",
       "      <th>3</th>\n",
       "      <td>localhost</td>\n",
       "      <td>127.0.0.1</td>\n",
       "      <td>False</td>\n",
       "      <td>23/Feb/2014:03:10:31</td>\n",
       "      <td>OPTIONS * HTTP/1.0</td>\n",
       "      <td>200</td>\n",
       "      <td>-</td>\n",
       "      <td>-</td>\n",
       "      <td>Apache (internal dummy connection)</td>\n",
       "    </tr>\n",
       "    <tr>\n",
       "      <th>4</th>\n",
       "      <td>localhost</td>\n",
       "      <td>127.0.0.1</td>\n",
       "      <td>False</td>\n",
       "      <td>23/Feb/2014:03:10:31</td>\n",
       "      <td>OPTIONS * HTTP/1.0</td>\n",
       "      <td>200</td>\n",
       "      <td>-</td>\n",
       "      <td>-</td>\n",
       "      <td>Apache (internal dummy connection)</td>\n",
       "    </tr>\n",
       "  </tbody>\n",
       "</table>\n",
       "</div>"
      ],
      "text/plain": [
       "        host         IP  clarcat              dataHora         visitedPage  \\\n",
       "0  localhost  127.0.0.1    False  23/Feb/2014:03:10:31  OPTIONS * HTTP/1.0   \n",
       "1  localhost  127.0.0.1    False  23/Feb/2014:03:10:31  OPTIONS * HTTP/1.0   \n",
       "2  localhost  127.0.0.1    False  23/Feb/2014:03:10:31  OPTIONS * HTTP/1.0   \n",
       "3  localhost  127.0.0.1    False  23/Feb/2014:03:10:31  OPTIONS * HTTP/1.0   \n",
       "4  localhost  127.0.0.1    False  23/Feb/2014:03:10:31  OPTIONS * HTTP/1.0   \n",
       "\n",
       "   numberVisits values webAcces                           navegador  \n",
       "0           200      -        -  Apache (internal dummy connection)  \n",
       "1           200      -        -  Apache (internal dummy connection)  \n",
       "2           200      -        -  Apache (internal dummy connection)  \n",
       "3           200      -        -  Apache (internal dummy connection)  \n",
       "4           200      -        -  Apache (internal dummy connection)  "
      ]
     },
     "execution_count": 8,
     "metadata": {},
     "output_type": "execute_result"
    }
   ],
   "source": [
    "df2=df2.drop('timeZone', axis=1)\n",
    "df2.head()"
   ]
  },
  {
   "cell_type": "code",
   "execution_count": 90,
   "id": "40352037",
   "metadata": {},
   "outputs": [
    {
     "data": {
      "text/plain": [
       "(261871, 9)"
      ]
     },
     "execution_count": 90,
     "metadata": {},
     "output_type": "execute_result"
    }
   ],
   "source": [
    "df2.shape"
   ]
  },
  {
   "cell_type": "code",
   "execution_count": 9,
   "id": "e9ef8ca8",
   "metadata": {},
   "outputs": [],
   "source": [
    "from datetime import *"
   ]
  },
  {
   "cell_type": "code",
   "execution_count": 141,
   "id": "8ba3e2da",
   "metadata": {
    "scrolled": true
   },
   "outputs": [
    {
     "data": {
      "text/plain": [
       "str"
      ]
     },
     "execution_count": 141,
     "metadata": {},
     "output_type": "execute_result"
    }
   ],
   "source": [
    "type(df2['dataHora'][1])"
   ]
  },
  {
   "cell_type": "code",
   "execution_count": 100,
   "id": "0dd78244",
   "metadata": {
    "scrolled": true
   },
   "outputs": [
    {
     "data": {
      "text/plain": [
       "(261871, 9)"
      ]
     },
     "execution_count": 100,
     "metadata": {},
     "output_type": "execute_result"
    }
   ],
   "source": [
    "pd.set_option(\"display.max_rows\", 100)\n",
    "df2.shape"
   ]
  },
  {
   "cell_type": "code",
   "execution_count": 102,
   "id": "d2969be3",
   "metadata": {},
   "outputs": [
    {
     "data": {
      "text/plain": [
       "10000    23/Feb/2014:10:24:39\n",
       "10001    23/Feb/2014:10:24:44\n",
       "10002    23/Feb/2014:10:24:44\n",
       "10003    23/Feb/2014:10:24:44\n",
       "10004    23/Feb/2014:10:24:48\n",
       "                 ...         \n",
       "10096    23/Feb/2014:10:27:49\n",
       "10097    23/Feb/2014:10:27:50\n",
       "10098    23/Feb/2014:10:27:53\n",
       "10099    23/Feb/2014:10:27:56\n",
       "10100    23/Feb/2014:10:27:57\n",
       "Name: dataHora, Length: 101, dtype: object"
      ]
     },
     "execution_count": 102,
     "metadata": {},
     "output_type": "execute_result"
    }
   ],
   "source": [
    "df2.loc[10000:10100,'dataHora']"
   ]
  },
  {
   "cell_type": "markdown",
   "id": "46eddb5a",
   "metadata": {},
   "source": [
    "Pasamos dataHora a formato datetime"
   ]
  },
  {
   "cell_type": "code",
   "execution_count": 10,
   "id": "54c1c733",
   "metadata": {},
   "outputs": [],
   "source": [
    "df2.dataHora = df2['dataHora'].apply(lambda x: datetime.strptime(x,\"%d/%b/%Y:%H:%M:%S\"))"
   ]
  },
  {
   "cell_type": "code",
   "execution_count": 15,
   "id": "3b09725e",
   "metadata": {},
   "outputs": [
    {
     "data": {
      "text/html": [
       "<div>\n",
       "<style scoped>\n",
       "    .dataframe tbody tr th:only-of-type {\n",
       "        vertical-align: middle;\n",
       "    }\n",
       "\n",
       "    .dataframe tbody tr th {\n",
       "        vertical-align: top;\n",
       "    }\n",
       "\n",
       "    .dataframe thead th {\n",
       "        text-align: right;\n",
       "    }\n",
       "</style>\n",
       "<table border=\"1\" class=\"dataframe\">\n",
       "  <thead>\n",
       "    <tr style=\"text-align: right;\">\n",
       "      <th></th>\n",
       "      <th>host</th>\n",
       "      <th>IP</th>\n",
       "      <th>clarcat</th>\n",
       "      <th>dataHora</th>\n",
       "      <th>visitedPage</th>\n",
       "      <th>numberVisits</th>\n",
       "      <th>values</th>\n",
       "      <th>webAcces</th>\n",
       "      <th>navegador</th>\n",
       "    </tr>\n",
       "  </thead>\n",
       "  <tbody>\n",
       "    <tr>\n",
       "      <th>0</th>\n",
       "      <td>localhost</td>\n",
       "      <td>127.0.0.1</td>\n",
       "      <td>False</td>\n",
       "      <td>2014-02-23 03:10:31</td>\n",
       "      <td>OPTIONS * HTTP/1.0</td>\n",
       "      <td>200</td>\n",
       "      <td>-</td>\n",
       "      <td>-</td>\n",
       "      <td>Apache (internal dummy connection)</td>\n",
       "    </tr>\n",
       "    <tr>\n",
       "      <th>1</th>\n",
       "      <td>localhost</td>\n",
       "      <td>127.0.0.1</td>\n",
       "      <td>False</td>\n",
       "      <td>2014-02-23 03:10:31</td>\n",
       "      <td>OPTIONS * HTTP/1.0</td>\n",
       "      <td>200</td>\n",
       "      <td>-</td>\n",
       "      <td>-</td>\n",
       "      <td>Apache (internal dummy connection)</td>\n",
       "    </tr>\n",
       "    <tr>\n",
       "      <th>2</th>\n",
       "      <td>localhost</td>\n",
       "      <td>127.0.0.1</td>\n",
       "      <td>False</td>\n",
       "      <td>2014-02-23 03:10:31</td>\n",
       "      <td>OPTIONS * HTTP/1.0</td>\n",
       "      <td>200</td>\n",
       "      <td>-</td>\n",
       "      <td>-</td>\n",
       "      <td>Apache (internal dummy connection)</td>\n",
       "    </tr>\n",
       "    <tr>\n",
       "      <th>3</th>\n",
       "      <td>localhost</td>\n",
       "      <td>127.0.0.1</td>\n",
       "      <td>False</td>\n",
       "      <td>2014-02-23 03:10:31</td>\n",
       "      <td>OPTIONS * HTTP/1.0</td>\n",
       "      <td>200</td>\n",
       "      <td>-</td>\n",
       "      <td>-</td>\n",
       "      <td>Apache (internal dummy connection)</td>\n",
       "    </tr>\n",
       "    <tr>\n",
       "      <th>4</th>\n",
       "      <td>localhost</td>\n",
       "      <td>127.0.0.1</td>\n",
       "      <td>False</td>\n",
       "      <td>2014-02-23 03:10:31</td>\n",
       "      <td>OPTIONS * HTTP/1.0</td>\n",
       "      <td>200</td>\n",
       "      <td>-</td>\n",
       "      <td>-</td>\n",
       "      <td>Apache (internal dummy connection)</td>\n",
       "    </tr>\n",
       "  </tbody>\n",
       "</table>\n",
       "</div>"
      ],
      "text/plain": [
       "        host         IP  clarcat            dataHora         visitedPage  \\\n",
       "0  localhost  127.0.0.1    False 2014-02-23 03:10:31  OPTIONS * HTTP/1.0   \n",
       "1  localhost  127.0.0.1    False 2014-02-23 03:10:31  OPTIONS * HTTP/1.0   \n",
       "2  localhost  127.0.0.1    False 2014-02-23 03:10:31  OPTIONS * HTTP/1.0   \n",
       "3  localhost  127.0.0.1    False 2014-02-23 03:10:31  OPTIONS * HTTP/1.0   \n",
       "4  localhost  127.0.0.1    False 2014-02-23 03:10:31  OPTIONS * HTTP/1.0   \n",
       "\n",
       "   numberVisits values webAcces                           navegador  \n",
       "0           200      -        -  Apache (internal dummy connection)  \n",
       "1           200      -        -  Apache (internal dummy connection)  \n",
       "2           200      -        -  Apache (internal dummy connection)  \n",
       "3           200      -        -  Apache (internal dummy connection)  \n",
       "4           200      -        -  Apache (internal dummy connection)  "
      ]
     },
     "execution_count": 15,
     "metadata": {},
     "output_type": "execute_result"
    }
   ],
   "source": [
    "df2.head()"
   ]
  },
  {
   "cell_type": "markdown",
   "id": "5cb71fba",
   "metadata": {},
   "source": [
    "Pasamos a comprobar si hay NAs:"
   ]
  },
  {
   "cell_type": "code",
   "execution_count": 16,
   "id": "fc3ebc55",
   "metadata": {},
   "outputs": [
    {
     "data": {
      "text/plain": [
       "host            0\n",
       "IP              0\n",
       "clarcat         0\n",
       "dataHora        0\n",
       "visitedPage     0\n",
       "numberVisits    0\n",
       "values          0\n",
       "webAcces        0\n",
       "navegador       0\n",
       "dtype: int64"
      ]
     },
     "execution_count": 16,
     "metadata": {},
     "output_type": "execute_result"
    }
   ],
   "source": [
    "df2.isna().sum()"
   ]
  },
  {
   "cell_type": "markdown",
   "id": "e2126f48",
   "metadata": {},
   "source": [
    "Pasamos a comprobar si es necesario estandarizar o normalizar las variables numéricas como numberVisits y values"
   ]
  },
  {
   "cell_type": "code",
   "execution_count": 148,
   "id": "5c14eff3",
   "metadata": {},
   "outputs": [
    {
     "data": {
      "text/html": [
       "<div>\n",
       "<style scoped>\n",
       "    .dataframe tbody tr th:only-of-type {\n",
       "        vertical-align: middle;\n",
       "    }\n",
       "\n",
       "    .dataframe tbody tr th {\n",
       "        vertical-align: top;\n",
       "    }\n",
       "\n",
       "    .dataframe thead th {\n",
       "        text-align: right;\n",
       "    }\n",
       "</style>\n",
       "<table border=\"1\" class=\"dataframe\">\n",
       "  <thead>\n",
       "    <tr style=\"text-align: right;\">\n",
       "      <th></th>\n",
       "      <th>numberVisits</th>\n",
       "    </tr>\n",
       "  </thead>\n",
       "  <tbody>\n",
       "    <tr>\n",
       "      <th>count</th>\n",
       "      <td>261871.000000</td>\n",
       "    </tr>\n",
       "    <tr>\n",
       "      <th>mean</th>\n",
       "      <td>217.400854</td>\n",
       "    </tr>\n",
       "    <tr>\n",
       "      <th>std</th>\n",
       "      <td>46.993217</td>\n",
       "    </tr>\n",
       "    <tr>\n",
       "      <th>min</th>\n",
       "      <td>200.000000</td>\n",
       "    </tr>\n",
       "    <tr>\n",
       "      <th>25%</th>\n",
       "      <td>200.000000</td>\n",
       "    </tr>\n",
       "    <tr>\n",
       "      <th>50%</th>\n",
       "      <td>200.000000</td>\n",
       "    </tr>\n",
       "    <tr>\n",
       "      <th>75%</th>\n",
       "      <td>200.000000</td>\n",
       "    </tr>\n",
       "    <tr>\n",
       "      <th>max</th>\n",
       "      <td>502.000000</td>\n",
       "    </tr>\n",
       "  </tbody>\n",
       "</table>\n",
       "</div>"
      ],
      "text/plain": [
       "        numberVisits\n",
       "count  261871.000000\n",
       "mean      217.400854\n",
       "std        46.993217\n",
       "min       200.000000\n",
       "25%       200.000000\n",
       "50%       200.000000\n",
       "75%       200.000000\n",
       "max       502.000000"
      ]
     },
     "execution_count": 148,
     "metadata": {},
     "output_type": "execute_result"
    }
   ],
   "source": [
    "df2.describe()"
   ]
  },
  {
   "cell_type": "code",
   "execution_count": 159,
   "id": "8d63983f",
   "metadata": {},
   "outputs": [
    {
     "data": {
      "text/plain": [
       "str"
      ]
     },
     "execution_count": 159,
     "metadata": {},
     "output_type": "execute_result"
    }
   ],
   "source": [
    "#Se comprueba como es la variable numberVisits al no aparecer en el describe\n",
    "type(df2['values'][8158])#Es neceario transformarlo a int"
   ]
  },
  {
   "cell_type": "code",
   "execution_count": 170,
   "id": "23296a96",
   "metadata": {},
   "outputs": [
    {
     "data": {
      "text/plain": [
       "0"
      ]
     },
     "execution_count": 170,
     "metadata": {},
     "output_type": "execute_result"
    }
   ],
   "source": [
    "hay0 = df.values=='0'\n",
    "hay0.sum()"
   ]
  },
  {
   "cell_type": "markdown",
   "id": "10bee689",
   "metadata": {},
   "source": [
    "Como da 0 significa que todos los casos son False, por lo tanto se deja el 0 como valor para substituir '-'"
   ]
  },
  {
   "cell_type": "code",
   "execution_count": 11,
   "id": "5bf96fce",
   "metadata": {},
   "outputs": [],
   "source": [
    "df2['values'] = df2['values'].apply(lambda x: int(x) if x != '-' else 0)"
   ]
  },
  {
   "cell_type": "code",
   "execution_count": 162,
   "id": "5a67f75c",
   "metadata": {},
   "outputs": [
    {
     "data": {
      "text/plain": [
       "0         0\n",
       "1         0\n",
       "2         0\n",
       "3         0\n",
       "4         0\n",
       "5         0\n",
       "6         0\n",
       "7         0\n",
       "8         0\n",
       "9         0\n",
       "10        0\n",
       "11        0\n",
       "12        0\n",
       "13        0\n",
       "14        0\n",
       "15        0\n",
       "16        0\n",
       "17        0\n",
       "18        0\n",
       "19        0\n",
       "20        0\n",
       "21        0\n",
       "22     3100\n",
       "23     3100\n",
       "24     3100\n",
       "25     3100\n",
       "26     8811\n",
       "27     3100\n",
       "28     3100\n",
       "29     3100\n",
       "30     8816\n",
       "31     3100\n",
       "32     3100\n",
       "33     3100\n",
       "34     8810\n",
       "35     3100\n",
       "36     3100\n",
       "37     3100\n",
       "38     3100\n",
       "39     8812\n",
       "40     3100\n",
       "41    14818\n",
       "42     3100\n",
       "43     3100\n",
       "44    17750\n",
       "45     3100\n",
       "46     8807\n",
       "47     3100\n",
       "48     9914\n",
       "49     3100\n",
       "Name: values, dtype: int64"
      ]
     },
     "execution_count": 162,
     "metadata": {},
     "output_type": "execute_result"
    }
   ],
   "source": [
    "df2['values'].head(50)"
   ]
  },
  {
   "cell_type": "code",
   "execution_count": 12,
   "id": "cdabd5a0",
   "metadata": {},
   "outputs": [
    {
     "data": {
      "text/html": [
       "<div>\n",
       "<style scoped>\n",
       "    .dataframe tbody tr th:only-of-type {\n",
       "        vertical-align: middle;\n",
       "    }\n",
       "\n",
       "    .dataframe tbody tr th {\n",
       "        vertical-align: top;\n",
       "    }\n",
       "\n",
       "    .dataframe thead th {\n",
       "        text-align: right;\n",
       "    }\n",
       "</style>\n",
       "<table border=\"1\" class=\"dataframe\">\n",
       "  <thead>\n",
       "    <tr style=\"text-align: right;\">\n",
       "      <th></th>\n",
       "      <th>numberVisits</th>\n",
       "      <th>values</th>\n",
       "    </tr>\n",
       "  </thead>\n",
       "  <tbody>\n",
       "    <tr>\n",
       "      <th>count</th>\n",
       "      <td>261871.000000</td>\n",
       "      <td>2.618710e+05</td>\n",
       "    </tr>\n",
       "    <tr>\n",
       "      <th>mean</th>\n",
       "      <td>217.400854</td>\n",
       "      <td>9.915669e+03</td>\n",
       "    </tr>\n",
       "    <tr>\n",
       "      <th>std</th>\n",
       "      <td>46.993217</td>\n",
       "      <td>2.210375e+05</td>\n",
       "    </tr>\n",
       "    <tr>\n",
       "      <th>min</th>\n",
       "      <td>200.000000</td>\n",
       "      <td>0.000000e+00</td>\n",
       "    </tr>\n",
       "    <tr>\n",
       "      <th>25%</th>\n",
       "      <td>200.000000</td>\n",
       "      <td>4.190000e+02</td>\n",
       "    </tr>\n",
       "    <tr>\n",
       "      <th>50%</th>\n",
       "      <td>200.000000</td>\n",
       "      <td>3.863000e+03</td>\n",
       "    </tr>\n",
       "    <tr>\n",
       "      <th>75%</th>\n",
       "      <td>200.000000</td>\n",
       "      <td>8.815000e+03</td>\n",
       "    </tr>\n",
       "    <tr>\n",
       "      <th>max</th>\n",
       "      <td>502.000000</td>\n",
       "      <td>4.556469e+07</td>\n",
       "    </tr>\n",
       "  </tbody>\n",
       "</table>\n",
       "</div>"
      ],
      "text/plain": [
       "        numberVisits        values\n",
       "count  261871.000000  2.618710e+05\n",
       "mean      217.400854  9.915669e+03\n",
       "std        46.993217  2.210375e+05\n",
       "min       200.000000  0.000000e+00\n",
       "25%       200.000000  4.190000e+02\n",
       "50%       200.000000  3.863000e+03\n",
       "75%       200.000000  8.815000e+03\n",
       "max       502.000000  4.556469e+07"
      ]
     },
     "execution_count": 12,
     "metadata": {},
     "output_type": "execute_result"
    }
   ],
   "source": [
    "df2.describe()"
   ]
  },
  {
   "cell_type": "code",
   "execution_count": 172,
   "id": "6ddf925f",
   "metadata": {},
   "outputs": [
    {
     "data": {
      "text/plain": [
       "host            42335\n",
       "IP              42335\n",
       "clarcat         42335\n",
       "dataHora        42335\n",
       "visitedPage     42335\n",
       "numberVisits    42335\n",
       "values          42335\n",
       "webAcces        42335\n",
       "navegador       42335\n",
       "dtype: int64"
      ]
     },
     "execution_count": 172,
     "metadata": {},
     "output_type": "execute_result"
    }
   ],
   "source": [
    "df2[df2['values']==0].count()"
   ]
  },
  {
   "cell_type": "code",
   "execution_count": 173,
   "id": "615c313f",
   "metadata": {},
   "outputs": [
    {
     "data": {
      "text/plain": [
       "(261871, 9)"
      ]
     },
     "execution_count": 173,
     "metadata": {},
     "output_type": "execute_result"
    }
   ],
   "source": [
    "df2.shape"
   ]
  },
  {
   "cell_type": "code",
   "execution_count": 174,
   "id": "086121cb",
   "metadata": {},
   "outputs": [
    {
     "data": {
      "text/plain": [
       "0.1616635671762051"
      ]
     },
     "execution_count": 174,
     "metadata": {},
     "output_type": "execute_result"
    }
   ],
   "source": [
    "#Cantidad de 0 en values\n",
    "42335/261871"
   ]
  },
  {
   "cell_type": "markdown",
   "id": "617f6bcc",
   "metadata": {},
   "source": [
    "Se explora gráficamente si la distribución es normal en 'values' y 'numberVisits'"
   ]
  },
  {
   "cell_type": "code",
   "execution_count": 21,
   "id": "bc5cdee9",
   "metadata": {},
   "outputs": [
    {
     "data": {
      "image/png": "[encoded data removed]",
      "text/plain": [
       "<Figure size 432x288 with 1 Axes>"
      ]
     },
     "metadata": {
      "needs_background": "light"
     },
     "output_type": "display_data"
    }
   ],
   "source": [
    "plt.hist(df2.numberVisits)\n",
    "plt.title('Histograma de la variable numberVisits')\n",
    "plt.xlabel('Número de visitas')\n",
    "plt.ylabel('Repeticiones de cada número de visitas')\n",
    "plt.show()"
   ]
  },
  {
   "cell_type": "code",
   "execution_count": 32,
   "id": "dfcd0fdf",
   "metadata": {},
   "outputs": [
    {
     "data": {
      "image/png": "[encoded data removed]",
      "text/plain": [
       "<Figure size 432x288 with 1 Axes>"
      ]
     },
     "metadata": {
      "needs_background": "light"
     },
     "output_type": "display_data"
    }
   ],
   "source": [
    "plt.hist(df2['values'])\n",
    "plt.xlabel('Valores de la variable values')\n",
    "plt.ylabel('Número de repeticiones')\n",
    "plt.title('Histograma de values')\n",
    "plt.show()"
   ]
  },
  {
   "cell_type": "markdown",
   "id": "501ddb10",
   "metadata": {},
   "source": [
    "En ambos casos se observa que el histograma está muy sesgado hacia uno de los lados. En consecuencia, al no presentar distribución normal los datos se van a normalizar."
   ]
  },
  {
   "cell_type": "code",
   "execution_count": 13,
   "id": "010d812a",
   "metadata": {},
   "outputs": [],
   "source": [
    "from sklearn.preprocessing import MinMaxScaler"
   ]
  },
  {
   "cell_type": "code",
   "execution_count": 14,
   "id": "37f14c65",
   "metadata": {},
   "outputs": [],
   "source": [
    "scaler = MinMaxScaler()"
   ]
  },
  {
   "cell_type": "code",
   "execution_count": 18,
   "id": "54d27773",
   "metadata": {},
   "outputs": [],
   "source": [
    "df2['valuesNorm']=scaler.fit_transform(df2.iloc[:,[6]])"
   ]
  },
  {
   "cell_type": "code",
   "execution_count": 19,
   "id": "84e544ec",
   "metadata": {},
   "outputs": [
    {
     "data": {
      "text/html": [
       "<div>\n",
       "<style scoped>\n",
       "    .dataframe tbody tr th:only-of-type {\n",
       "        vertical-align: middle;\n",
       "    }\n",
       "\n",
       "    .dataframe tbody tr th {\n",
       "        vertical-align: top;\n",
       "    }\n",
       "\n",
       "    .dataframe thead th {\n",
       "        text-align: right;\n",
       "    }\n",
       "</style>\n",
       "<table border=\"1\" class=\"dataframe\">\n",
       "  <thead>\n",
       "    <tr style=\"text-align: right;\">\n",
       "      <th></th>\n",
       "      <th>host</th>\n",
       "      <th>IP</th>\n",
       "      <th>clarcat</th>\n",
       "      <th>dataHora</th>\n",
       "      <th>visitedPage</th>\n",
       "      <th>numberVisits</th>\n",
       "      <th>values</th>\n",
       "      <th>webAcces</th>\n",
       "      <th>navegador</th>\n",
       "      <th>valuesNorm</th>\n",
       "    </tr>\n",
       "  </thead>\n",
       "  <tbody>\n",
       "    <tr>\n",
       "      <th>0</th>\n",
       "      <td>localhost</td>\n",
       "      <td>127.0.0.1</td>\n",
       "      <td>False</td>\n",
       "      <td>2014-02-23 03:10:31</td>\n",
       "      <td>OPTIONS * HTTP/1.0</td>\n",
       "      <td>200</td>\n",
       "      <td>0</td>\n",
       "      <td>-</td>\n",
       "      <td>Apache (internal dummy connection)</td>\n",
       "      <td>0.0</td>\n",
       "    </tr>\n",
       "    <tr>\n",
       "      <th>1</th>\n",
       "      <td>localhost</td>\n",
       "      <td>127.0.0.1</td>\n",
       "      <td>False</td>\n",
       "      <td>2014-02-23 03:10:31</td>\n",
       "      <td>OPTIONS * HTTP/1.0</td>\n",
       "      <td>200</td>\n",
       "      <td>0</td>\n",
       "      <td>-</td>\n",
       "      <td>Apache (internal dummy connection)</td>\n",
       "      <td>0.0</td>\n",
       "    </tr>\n",
       "    <tr>\n",
       "      <th>2</th>\n",
       "      <td>localhost</td>\n",
       "      <td>127.0.0.1</td>\n",
       "      <td>False</td>\n",
       "      <td>2014-02-23 03:10:31</td>\n",
       "      <td>OPTIONS * HTTP/1.0</td>\n",
       "      <td>200</td>\n",
       "      <td>0</td>\n",
       "      <td>-</td>\n",
       "      <td>Apache (internal dummy connection)</td>\n",
       "      <td>0.0</td>\n",
       "    </tr>\n",
       "    <tr>\n",
       "      <th>3</th>\n",
       "      <td>localhost</td>\n",
       "      <td>127.0.0.1</td>\n",
       "      <td>False</td>\n",
       "      <td>2014-02-23 03:10:31</td>\n",
       "      <td>OPTIONS * HTTP/1.0</td>\n",
       "      <td>200</td>\n",
       "      <td>0</td>\n",
       "      <td>-</td>\n",
       "      <td>Apache (internal dummy connection)</td>\n",
       "      <td>0.0</td>\n",
       "    </tr>\n",
       "    <tr>\n",
       "      <th>4</th>\n",
       "      <td>localhost</td>\n",
       "      <td>127.0.0.1</td>\n",
       "      <td>False</td>\n",
       "      <td>2014-02-23 03:10:31</td>\n",
       "      <td>OPTIONS * HTTP/1.0</td>\n",
       "      <td>200</td>\n",
       "      <td>0</td>\n",
       "      <td>-</td>\n",
       "      <td>Apache (internal dummy connection)</td>\n",
       "      <td>0.0</td>\n",
       "    </tr>\n",
       "  </tbody>\n",
       "</table>\n",
       "</div>"
      ],
      "text/plain": [
       "        host         IP  clarcat            dataHora         visitedPage  \\\n",
       "0  localhost  127.0.0.1    False 2014-02-23 03:10:31  OPTIONS * HTTP/1.0   \n",
       "1  localhost  127.0.0.1    False 2014-02-23 03:10:31  OPTIONS * HTTP/1.0   \n",
       "2  localhost  127.0.0.1    False 2014-02-23 03:10:31  OPTIONS * HTTP/1.0   \n",
       "3  localhost  127.0.0.1    False 2014-02-23 03:10:31  OPTIONS * HTTP/1.0   \n",
       "4  localhost  127.0.0.1    False 2014-02-23 03:10:31  OPTIONS * HTTP/1.0   \n",
       "\n",
       "   numberVisits  values webAcces                           navegador  \\\n",
       "0           200       0        -  Apache (internal dummy connection)   \n",
       "1           200       0        -  Apache (internal dummy connection)   \n",
       "2           200       0        -  Apache (internal dummy connection)   \n",
       "3           200       0        -  Apache (internal dummy connection)   \n",
       "4           200       0        -  Apache (internal dummy connection)   \n",
       "\n",
       "   valuesNorm  \n",
       "0         0.0  \n",
       "1         0.0  \n",
       "2         0.0  \n",
       "3         0.0  \n",
       "4         0.0  "
      ]
     },
     "execution_count": 19,
     "metadata": {},
     "output_type": "execute_result"
    }
   ],
   "source": [
    "df2.head()"
   ]
  },
  {
   "cell_type": "code",
   "execution_count": 23,
   "id": "7e5dc233",
   "metadata": {},
   "outputs": [
    {
     "name": "stdout",
     "output_type": "stream",
     "text": [
      "0.0\n",
      "1.0\n"
     ]
    }
   ],
   "source": [
    "#Comprovamos el mínimo y máximo para ver que es correcto\n",
    "print(df2['valuesNorm'].min())\n",
    "print(df2['valuesNorm'].max())"
   ]
  },
  {
   "cell_type": "code",
   "execution_count": 24,
   "id": "99a714d2",
   "metadata": {},
   "outputs": [],
   "source": [
    "#Se realiza el mismo proceso con numberVisits\n",
    "df2['numberVisitsNorm'] = scaler.fit_transform(df2.loc[:,['numberVisits']])"
   ]
  },
  {
   "cell_type": "code",
   "execution_count": 25,
   "id": "b8bd5c6e",
   "metadata": {},
   "outputs": [
    {
     "data": {
      "text/html": [
       "<div>\n",
       "<style scoped>\n",
       "    .dataframe tbody tr th:only-of-type {\n",
       "        vertical-align: middle;\n",
       "    }\n",
       "\n",
       "    .dataframe tbody tr th {\n",
       "        vertical-align: top;\n",
       "    }\n",
       "\n",
       "    .dataframe thead th {\n",
       "        text-align: right;\n",
       "    }\n",
       "</style>\n",
       "<table border=\"1\" class=\"dataframe\">\n",
       "  <thead>\n",
       "    <tr style=\"text-align: right;\">\n",
       "      <th></th>\n",
       "      <th>host</th>\n",
       "      <th>IP</th>\n",
       "      <th>clarcat</th>\n",
       "      <th>dataHora</th>\n",
       "      <th>visitedPage</th>\n",
       "      <th>numberVisits</th>\n",
       "      <th>values</th>\n",
       "      <th>webAcces</th>\n",
       "      <th>navegador</th>\n",
       "      <th>valuesNorm</th>\n",
       "      <th>numberVisitsNorm</th>\n",
       "    </tr>\n",
       "  </thead>\n",
       "  <tbody>\n",
       "    <tr>\n",
       "      <th>0</th>\n",
       "      <td>localhost</td>\n",
       "      <td>127.0.0.1</td>\n",
       "      <td>False</td>\n",
       "      <td>2014-02-23 03:10:31</td>\n",
       "      <td>OPTIONS * HTTP/1.0</td>\n",
       "      <td>200</td>\n",
       "      <td>0</td>\n",
       "      <td>-</td>\n",
       "      <td>Apache (internal dummy connection)</td>\n",
       "      <td>0.0</td>\n",
       "      <td>0.0</td>\n",
       "    </tr>\n",
       "    <tr>\n",
       "      <th>1</th>\n",
       "      <td>localhost</td>\n",
       "      <td>127.0.0.1</td>\n",
       "      <td>False</td>\n",
       "      <td>2014-02-23 03:10:31</td>\n",
       "      <td>OPTIONS * HTTP/1.0</td>\n",
       "      <td>200</td>\n",
       "      <td>0</td>\n",
       "      <td>-</td>\n",
       "      <td>Apache (internal dummy connection)</td>\n",
       "      <td>0.0</td>\n",
       "      <td>0.0</td>\n",
       "    </tr>\n",
       "    <tr>\n",
       "      <th>2</th>\n",
       "      <td>localhost</td>\n",
       "      <td>127.0.0.1</td>\n",
       "      <td>False</td>\n",
       "      <td>2014-02-23 03:10:31</td>\n",
       "      <td>OPTIONS * HTTP/1.0</td>\n",
       "      <td>200</td>\n",
       "      <td>0</td>\n",
       "      <td>-</td>\n",
       "      <td>Apache (internal dummy connection)</td>\n",
       "      <td>0.0</td>\n",
       "      <td>0.0</td>\n",
       "    </tr>\n",
       "    <tr>\n",
       "      <th>3</th>\n",
       "      <td>localhost</td>\n",
       "      <td>127.0.0.1</td>\n",
       "      <td>False</td>\n",
       "      <td>2014-02-23 03:10:31</td>\n",
       "      <td>OPTIONS * HTTP/1.0</td>\n",
       "      <td>200</td>\n",
       "      <td>0</td>\n",
       "      <td>-</td>\n",
       "      <td>Apache (internal dummy connection)</td>\n",
       "      <td>0.0</td>\n",
       "      <td>0.0</td>\n",
       "    </tr>\n",
       "    <tr>\n",
       "      <th>4</th>\n",
       "      <td>localhost</td>\n",
       "      <td>127.0.0.1</td>\n",
       "      <td>False</td>\n",
       "      <td>2014-02-23 03:10:31</td>\n",
       "      <td>OPTIONS * HTTP/1.0</td>\n",
       "      <td>200</td>\n",
       "      <td>0</td>\n",
       "      <td>-</td>\n",
       "      <td>Apache (internal dummy connection)</td>\n",
       "      <td>0.0</td>\n",
       "      <td>0.0</td>\n",
       "    </tr>\n",
       "  </tbody>\n",
       "</table>\n",
       "</div>"
      ],
      "text/plain": [
       "        host         IP  clarcat            dataHora         visitedPage  \\\n",
       "0  localhost  127.0.0.1    False 2014-02-23 03:10:31  OPTIONS * HTTP/1.0   \n",
       "1  localhost  127.0.0.1    False 2014-02-23 03:10:31  OPTIONS * HTTP/1.0   \n",
       "2  localhost  127.0.0.1    False 2014-02-23 03:10:31  OPTIONS * HTTP/1.0   \n",
       "3  localhost  127.0.0.1    False 2014-02-23 03:10:31  OPTIONS * HTTP/1.0   \n",
       "4  localhost  127.0.0.1    False 2014-02-23 03:10:31  OPTIONS * HTTP/1.0   \n",
       "\n",
       "   numberVisits  values webAcces                           navegador  \\\n",
       "0           200       0        -  Apache (internal dummy connection)   \n",
       "1           200       0        -  Apache (internal dummy connection)   \n",
       "2           200       0        -  Apache (internal dummy connection)   \n",
       "3           200       0        -  Apache (internal dummy connection)   \n",
       "4           200       0        -  Apache (internal dummy connection)   \n",
       "\n",
       "   valuesNorm  numberVisitsNorm  \n",
       "0         0.0               0.0  \n",
       "1         0.0               0.0  \n",
       "2         0.0               0.0  \n",
       "3         0.0               0.0  \n",
       "4         0.0               0.0  "
      ]
     },
     "execution_count": 25,
     "metadata": {},
     "output_type": "execute_result"
    }
   ],
   "source": [
    "df2.head()"
   ]
  },
  {
   "cell_type": "code",
   "execution_count": 27,
   "id": "e5c5cfff",
   "metadata": {},
   "outputs": [
    {
     "name": "stdout",
     "output_type": "stream",
     "text": [
      "0.0\n",
      "1.0\n"
     ]
    }
   ],
   "source": [
    "#Igual que antes comprobamos máximo y mínimo\n",
    "print(df2.numberVisitsNorm.min())\n",
    "print(df2.numberVisitsNorm.max())\n"
   ]
  },
  {
   "cell_type": "code",
   "execution_count": null,
   "id": "55e72cad",
   "metadata": {},
   "outputs": [],
   "source": []
  }
 ],
 "metadata": {
  "kernelspec": {
   "display_name": "Python 3 (ipykernel)",
   "language": "python",
   "name": "python3"
  },
  "language_info": {
   "codemirror_mode": {
    "name": "ipython",
    "version": 3
   },
   "file_extension": ".py",
   "mimetype": "text/x-python",
   "name": "python",
   "nbconvert_exporter": "python",
   "pygments_lexer": "ipython3",
   "version": "3.9.7"
  }
 },
 "nbformat": 4,
 "nbformat_minor": 5
}
